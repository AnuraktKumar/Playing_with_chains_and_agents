{
  "cells": [
    {
      "cell_type": "code",
      "execution_count": null,
      "metadata": {
        "id": "m5DOxsDap6dl"
      },
      "outputs": [],
      "source": [
        "!pip install openai"
      ]
    },
    {
      "cell_type": "code",
      "execution_count": null,
      "metadata": {
        "id": "VnT9MCOGp9E5"
      },
      "outputs": [],
      "source": [
        "!pip install langchain langchain_experimental"
      ]
    },
    {
      "cell_type": "code",
      "execution_count": null,
      "metadata": {
        "id": "aayEbmLSONZI"
      },
      "outputs": [],
      "source": [
        "!pip install sentence-transformers chromadb"
      ]
    },
    {
      "cell_type": "markdown",
      "metadata": {
        "id": "XKrsD-AbRPLl"
      },
      "source": [
        "Reference: https://medium.com/@yernenip/few-shot-prompting-with-codellama-langchain-and-mysql-94020ee16a08"
      ]
    },
    {
      "cell_type": "code",
      "execution_count": 33,
      "metadata": {
        "id": "kTcq4Swb2nB9"
      },
      "outputs": [],
      "source": [
        "import os\n",
        "os.environ[\"LANGCHAIN_TRACING_V2\"]=\"true\"\n",
        "os.environ[\"LANGCHAIN_ENDPOINT\"]=\"https://api.smith.langchain.com\"\n",
        "os.environ[\"LANGCHAIN_API_KEY\"]=\"ls__922342c2ddcc4de0b72076736e6178c7\""
      ]
    },
    {
      "cell_type": "code",
      "execution_count": 34,
      "metadata": {
        "id": "jZ4Cxomp2p1C"
      },
      "outputs": [],
      "source": [
        "from langchain.llms import OpenAI                         # Open AI (LLM)\n",
        "# Set the OpenAI API key as an environment variable\n",
        "os.environ[\"OPENAI_API_KEY\"] = \"USE-YOUR-OPEN-AI-KEY\""
      ]
    },
    {
      "cell_type": "code",
      "execution_count": 35,
      "metadata": {
        "id": "IAaCS86wqAMc"
      },
      "outputs": [],
      "source": [
        "import os\n",
        "import langchain\n",
        "import openai\n",
        "from langchain import OpenAI, SQLDatabase\n",
        "from langchain_experimental.sql import SQLDatabaseChain\n",
        "import sqlite3\n",
        "from langchain.prompts import FewShotPromptTemplate\n",
        "from langchain.chains.sql_database.prompt import PROMPT_SUFFIX, _mysql_prompt\n",
        "from langchain import PromptTemplate, OpenAI\n",
        "langchain.verbose = True"
      ]
    },
    {
      "cell_type": "code",
      "execution_count": 37,
      "metadata": {
        "id": "ErMvSQj-q2sz"
      },
      "outputs": [],
      "source": [
        "llm = OpenAI(temperature=0, verbose=True)"
      ]
    },
    {
      "cell_type": "code",
      "execution_count": 38,
      "metadata": {
        "id": "pFnKyHgfI6oC"
      },
      "outputs": [],
      "source": [
        "#Read database\n",
        "def read_sql_query(sql, db):\n",
        "    conn = sqlite3.connect(db)\n",
        "    cur = conn.cursor()\n",
        "    cur.execute(sql)\n",
        "    rows = cur.fetchall()\n",
        "    for row in rows:\n",
        "        print(row)\n",
        "    conn.close()\n",
        "from langchain.utilities import SQLDatabase               # SQL Database\n",
        "product_db = SQLDatabase.from_uri('sqlite:///product_db.sqlite')  # Create an instance of SQLDatabase engine"
      ]
    },
    {
      "cell_type": "code",
      "execution_count": null,
      "metadata": {
        "id": "mc_ykV1xJKP2"
      },
      "outputs": [],
      "source": [
        "db_chain = SQLDatabaseChain.from_llm(llm, product_db, verbose=True, return_sql=False, use_query_checker=True)\n",
        "db_chain.run(\"Find the average age of customers for each product preference category, and then identify customers who are above the average age within their respective product preference category?\")"
      ]
    },
    {
      "cell_type": "code",
      "execution_count": 99,
      "metadata": {
        "id": "nHcG5gxmtGwp"
      },
      "outputs": [],
      "source": [
        "#Creating sample promts for Queries (not for agents):\n",
        "examples = [\n",
        "    {\n",
        "        \"input\": \"How many product categories?\",\n",
        "        \"sql_cmd\": \"SELECT COUNT(DISTINCT product_category) FROM table_product\",\n",
        "        \"result\":\"[(6,)]\",\n",
        "        \"answer\": \"There are 6 product categories\"\n",
        "    },\n",
        "    {\n",
        "        \"input\": \"How many customers between age 20-40?\",\n",
        "        \"sql_cmd\": \"SELECT COUNT(*) FROM table_product WHERE age BETWEEN 20 AND 40\",\n",
        "        \"result\": \"[(96,)]\",\n",
        "        \"answer\": \"There are 96 customers with age between 20-40\"\n",
        "    },\n",
        "    {\n",
        "        \"input\": \"How many customers are from New York and are male?\",\n",
        "        \"sql_cmd\": \"SELECT COUNT(*) FROM table_product WHERE city = 'New York' AND gender = 'Male'\",\n",
        "        \"result\": \"[(1,)]\",\n",
        "        \"answer\": \"There is 1 customer from New York who is a male\"\n",
        "    },\n",
        "    {\n",
        "        \"input\": \"How many unique customers are there from Canada in Product table?\",\n",
        "        \"sql_cmd\": \"SELECT COUNT(DISTINCT customer_id) FROM table_product WHERE country = 'Canada'\",\n",
        "        \"result\": \"[(26,)]\",\n",
        "        \"answer\": \"There are 26 unique customers from Canada\"\n",
        "    },\n",
        "    {\n",
        "        \"input\": \"Extract the username name of all emails from the database and find out how many are concatenation of lowecase first name and lowercase last name of users and they are from NY and is a female\",\n",
        "        \"sql_cmd\": \"SELECT COUNT(*) FROM table_product WHERE email LIKE LOWER(first_name || last_name || '%') AND state = 'NY' AND gender = 'Female'\",\n",
        "        \"result\": \"[(1,)]\",\n",
        "        \"answer\": \"There is 1 such email addresses\"\n",
        "    }\n",
        "]"
      ]
    },
    {
      "cell_type": "code",
      "execution_count": 105,
      "metadata": {
        "colab": {
          "base_uri": "https://localhost:8080/"
        },
        "id": "Ixd8STQMYXsc",
        "outputId": "ecb9e252-7e06-4525-e326-f3610b9872c4"
      },
      "outputs": [
        {
          "name": "stdout",
          "output_type": "stream",
          "text": [
            "\n",
            "CREATE TABLE table_product (\n",
            "\tcustomer_id INTEGER, \n",
            "\tfirst_name TEXT, \n",
            "\tlast_name TEXT, \n",
            "\temail TEXT, \n",
            "\tage INTEGER, \n",
            "\tgender TEXT, \n",
            "\tcity TEXT, \n",
            "\tstate TEXT, \n",
            "\tcountry TEXT, \n",
            "\tproduct_category TEXT, \n",
            "\tproduct_preference TEXT\n",
            ")\n",
            "\n",
            "/*\n",
            "3 rows from table_product table:\n",
            "customer_id\tfirst_name\tlast_name\temail\tage\tgender\tcity\tstate\tcountry\tproduct_category\tproduct_preference\n",
            "1\tJohn\tDoe\tjohndoe@example.com\t35\tMale\tNew York\tNY\tUnited States\tElectronics\tSmartphones\n",
            "2\tJane\tSmith\tjanesmith@example.com\t28\tFemale\tLos Angeles\tCA\tUnited States\tClothing\tDresses\n",
            "3\tMichael\tJohnson\tmichaeljohnson@example.com\t42\tMale\tChicago\tIL\tUnited States\tHome & Kitchen\tAppliances\n",
            "*/\n"
          ]
        }
      ],
      "source": [
        "print(product_db.table_info)"
      ]
    },
    {
      "cell_type": "code",
      "execution_count": 106,
      "metadata": {
        "id": "fkNaC7lAPyf6"
      },
      "outputs": [],
      "source": [
        "#FEW-shot prompting without vectordb\n",
        "from langchain import PromptTemplate, OpenAI\n",
        "from langchain.prompts.few_shot import FewShotPromptTemplate\n",
        "\n",
        "\n",
        "example_prompt = PromptTemplate(\n",
        "    input_variables=[\"input\", \"sql_cmd\", \"result\", \"answer\",],\n",
        "    template=\"\\nQuestion: {input}\\nSQLQuery: {sql_cmd}\\nSQLResult: {result}\\nAnswer: {answer}\",\n",
        ")\n",
        "\n",
        "few_shot_prompt = FewShotPromptTemplate(\n",
        "    example_prompt=example_prompt,\n",
        "    examples=examples,\n",
        "    input_variables=[\"input\", \"table_info\", \"top_k\"],\n",
        "    prefix=_mysql_prompt,\n",
        "    suffix=PROMPT_SUFFIX,\n",
        ")"
      ]
    },
    {
      "cell_type": "markdown",
      "metadata": {
        "id": "kwbO-Gcyd1As"
      },
      "source": [
        "**SQL Query without few shot prompting**"
      ]
    },
    {
      "cell_type": "code",
      "execution_count": 121,
      "metadata": {
        "colab": {
          "base_uri": "https://localhost:8080/",
          "height": 1000
        },
        "id": "SM2EPtT6YOOB",
        "outputId": "5a23e07e-b789-42a0-fe2a-fc3382090ccb"
      },
      "outputs": [
        {
          "name": "stdout",
          "output_type": "stream",
          "text": [
            "\n",
            "\n",
            "\u001b[1m> Entering new SQLDatabaseChain chain...\u001b[0m\n",
            "Find the number of people whose age is less than or equal to the average age with a 2 year variation in age allowed and they are from NY or CA or IL whose prefer to buy smartphones. Also tell me the average age\n",
            "SQLQuery:\n",
            "\n",
            "\u001b[1m> Entering new LLMChain chain...\u001b[0m\n",
            "Prompt after formatting:\n",
            "\u001b[32;1m\u001b[1;3mYou are a SQLite expert. Given an input question, first create a syntactically correct SQLite query to run, then look at the results of the query and return the answer to the input question.\n",
            "Unless the user specifies in the question a specific number of examples to obtain, query for at most 5 results using the LIMIT clause as per SQLite. You can order the results to return the most informative data in the database.\n",
            "Never query for all columns from a table. You must query only the columns that are needed to answer the question. Wrap each column name in double quotes (\") to denote them as delimited identifiers.\n",
            "Pay attention to use only the column names you can see in the tables below. Be careful to not query for columns that do not exist. Also, pay attention to which column is in which table.\n",
            "Pay attention to use date('now') function to get the current date, if the question involves \"today\".\n",
            "\n",
            "Use the following format:\n",
            "\n",
            "Question: Question here\n",
            "SQLQuery: SQL Query to run\n",
            "SQLResult: Result of the SQLQuery\n",
            "Answer: Final answer here\n",
            "\n",
            "Only use the following tables:\n",
            "\n",
            "CREATE TABLE table_product (\n",
            "\tcustomer_id INTEGER, \n",
            "\tfirst_name TEXT, \n",
            "\tlast_name TEXT, \n",
            "\temail TEXT, \n",
            "\tage INTEGER, \n",
            "\tgender TEXT, \n",
            "\tcity TEXT, \n",
            "\tstate TEXT, \n",
            "\tcountry TEXT, \n",
            "\tproduct_category TEXT, \n",
            "\tproduct_preference TEXT\n",
            ")\n",
            "\n",
            "/*\n",
            "3 rows from table_product table:\n",
            "customer_id\tfirst_name\tlast_name\temail\tage\tgender\tcity\tstate\tcountry\tproduct_category\tproduct_preference\n",
            "1\tJohn\tDoe\tjohndoe@example.com\t35\tMale\tNew York\tNY\tUnited States\tElectronics\tSmartphones\n",
            "2\tJane\tSmith\tjanesmith@example.com\t28\tFemale\tLos Angeles\tCA\tUnited States\tClothing\tDresses\n",
            "3\tMichael\tJohnson\tmichaeljohnson@example.com\t42\tMale\tChicago\tIL\tUnited States\tHome & Kitchen\tAppliances\n",
            "*/\n",
            "\n",
            "Question: Find the number of people whose age is less than or equal to the average age with a 2 year variation in age allowed and they are from NY or CA or IL whose prefer to buy smartphones. Also tell me the average age\n",
            "SQLQuery:\u001b[0m\n",
            "\n",
            "\u001b[1m> Finished chain.\u001b[0m\n",
            "\n",
            "\n",
            "\u001b[1m> Entering new LLMChain chain...\u001b[0m\n",
            "Prompt after formatting:\n",
            "\u001b[32;1m\u001b[1;3m\n",
            "SELECT COUNT(*) AS \"Number of People\", AVG(age) AS \"Average Age\" FROM table_product WHERE age BETWEEN AVG(age)-2 AND AVG(age)+2 AND (state = \"NY\" OR state = \"CA\" OR state = \"IL\") AND product_preference = \"Smartphones\"\n",
            "Double check the sqlite query above for common mistakes, including:\n",
            "- Using NOT IN with NULL values\n",
            "- Using UNION when UNION ALL should have been used\n",
            "- Using BETWEEN for exclusive ranges\n",
            "- Data type mismatch in predicates\n",
            "- Properly quoting identifiers\n",
            "- Using the correct number of arguments for functions\n",
            "- Casting to the correct data type\n",
            "- Using the proper columns for joins\n",
            "\n",
            "If there are any of the above mistakes, rewrite the query. If there are no mistakes, just reproduce the original query.\n",
            "\n",
            "Output the final SQL query only.\n",
            "\n",
            "SQL Query: \u001b[0m\n",
            "\n",
            "\u001b[1m> Finished chain.\u001b[0m\n",
            "\u001b[32;1m\u001b[1;3mSELECT COUNT(*) AS \"Number of People\", AVG(age) AS \"Average Age\" \n",
            "FROM table_product \n",
            "WHERE age BETWEEN AVG(age)-2 AND AVG(age)+2 \n",
            "AND (state = \"NY\" OR state = \"CA\" OR state = \"IL\") \n",
            "AND product_preference = \"Smartphones\"\u001b[0m"
          ]
        },
        {
          "ename": "OperationalError",
          "evalue": "ignored",
          "output_type": "error",
          "traceback": [
            "\u001b[0;31m---------------------------------------------------------------------------\u001b[0m",
            "\u001b[0;31mOperationalError\u001b[0m                          Traceback (most recent call last)",
            "\u001b[0;32m/usr/local/lib/python3.10/dist-packages/sqlalchemy/engine/base.py\u001b[0m in \u001b[0;36m_exec_single_context\u001b[0;34m(self, dialect, context, statement, parameters)\u001b[0m\n\u001b[1;32m   1968\u001b[0m                 \u001b[0;32mif\u001b[0m \u001b[0;32mnot\u001b[0m \u001b[0mevt_handled\u001b[0m\u001b[0;34m:\u001b[0m\u001b[0;34m\u001b[0m\u001b[0;34m\u001b[0m\u001b[0m\n\u001b[0;32m-> 1969\u001b[0;31m                     self.dialect.do_execute(\n\u001b[0m\u001b[1;32m   1970\u001b[0m                         \u001b[0mcursor\u001b[0m\u001b[0;34m,\u001b[0m \u001b[0mstr_statement\u001b[0m\u001b[0;34m,\u001b[0m \u001b[0meffective_parameters\u001b[0m\u001b[0;34m,\u001b[0m \u001b[0mcontext\u001b[0m\u001b[0;34m\u001b[0m\u001b[0;34m\u001b[0m\u001b[0m\n",
            "\u001b[0;32m/usr/local/lib/python3.10/dist-packages/sqlalchemy/engine/default.py\u001b[0m in \u001b[0;36mdo_execute\u001b[0;34m(self, cursor, statement, parameters, context)\u001b[0m\n\u001b[1;32m    921\u001b[0m     \u001b[0;32mdef\u001b[0m \u001b[0mdo_execute\u001b[0m\u001b[0;34m(\u001b[0m\u001b[0mself\u001b[0m\u001b[0;34m,\u001b[0m \u001b[0mcursor\u001b[0m\u001b[0;34m,\u001b[0m \u001b[0mstatement\u001b[0m\u001b[0;34m,\u001b[0m \u001b[0mparameters\u001b[0m\u001b[0;34m,\u001b[0m \u001b[0mcontext\u001b[0m\u001b[0;34m=\u001b[0m\u001b[0;32mNone\u001b[0m\u001b[0;34m)\u001b[0m\u001b[0;34m:\u001b[0m\u001b[0;34m\u001b[0m\u001b[0;34m\u001b[0m\u001b[0m\n\u001b[0;32m--> 922\u001b[0;31m         \u001b[0mcursor\u001b[0m\u001b[0;34m.\u001b[0m\u001b[0mexecute\u001b[0m\u001b[0;34m(\u001b[0m\u001b[0mstatement\u001b[0m\u001b[0;34m,\u001b[0m \u001b[0mparameters\u001b[0m\u001b[0;34m)\u001b[0m\u001b[0;34m\u001b[0m\u001b[0;34m\u001b[0m\u001b[0m\n\u001b[0m\u001b[1;32m    923\u001b[0m \u001b[0;34m\u001b[0m\u001b[0m\n",
            "\u001b[0;31mOperationalError\u001b[0m: misuse of aggregate: AVG()",
            "\nThe above exception was the direct cause of the following exception:\n",
            "\u001b[0;31mOperationalError\u001b[0m                          Traceback (most recent call last)",
            "\u001b[0;32m<ipython-input-121-ffe6eb8378ea>\u001b[0m in \u001b[0;36m<cell line: 1>\u001b[0;34m()\u001b[0m\n\u001b[0;32m----> 1\u001b[0;31m \u001b[0mdb_chain\u001b[0m\u001b[0;34m.\u001b[0m\u001b[0mrun\u001b[0m\u001b[0;34m(\u001b[0m\u001b[0;34m\"Find the number of people whose age is less than or equal to the average age with a 2 year variation in age allowed and they are from NY or CA or IL whose prefer to buy smartphones. Also tell me the average age\"\u001b[0m\u001b[0;34m)\u001b[0m\u001b[0;34m\u001b[0m\u001b[0;34m\u001b[0m\u001b[0m\n\u001b[0m",
            "\u001b[0;32m/usr/local/lib/python3.10/dist-packages/langchain/chains/base.py\u001b[0m in \u001b[0;36mrun\u001b[0;34m(self, callbacks, tags, metadata, *args, **kwargs)\u001b[0m\n\u001b[1;32m    505\u001b[0m             \u001b[0;32mif\u001b[0m \u001b[0mlen\u001b[0m\u001b[0;34m(\u001b[0m\u001b[0margs\u001b[0m\u001b[0;34m)\u001b[0m \u001b[0;34m!=\u001b[0m \u001b[0;36m1\u001b[0m\u001b[0;34m:\u001b[0m\u001b[0;34m\u001b[0m\u001b[0;34m\u001b[0m\u001b[0m\n\u001b[1;32m    506\u001b[0m                 \u001b[0;32mraise\u001b[0m \u001b[0mValueError\u001b[0m\u001b[0;34m(\u001b[0m\u001b[0;34m\"`run` supports only one positional argument.\"\u001b[0m\u001b[0;34m)\u001b[0m\u001b[0;34m\u001b[0m\u001b[0;34m\u001b[0m\u001b[0m\n\u001b[0;32m--> 507\u001b[0;31m             return self(args[0], callbacks=callbacks, tags=tags, metadata=metadata)[\n\u001b[0m\u001b[1;32m    508\u001b[0m                 \u001b[0m_output_key\u001b[0m\u001b[0;34m\u001b[0m\u001b[0;34m\u001b[0m\u001b[0m\n\u001b[1;32m    509\u001b[0m             ]\n",
            "\u001b[0;32m/usr/local/lib/python3.10/dist-packages/langchain/chains/base.py\u001b[0m in \u001b[0;36m__call__\u001b[0;34m(self, inputs, return_only_outputs, callbacks, tags, metadata, run_name, include_run_info)\u001b[0m\n\u001b[1;32m    310\u001b[0m         \u001b[0;32mexcept\u001b[0m \u001b[0mBaseException\u001b[0m \u001b[0;32mas\u001b[0m \u001b[0me\u001b[0m\u001b[0;34m:\u001b[0m\u001b[0;34m\u001b[0m\u001b[0;34m\u001b[0m\u001b[0m\n\u001b[1;32m    311\u001b[0m             \u001b[0mrun_manager\u001b[0m\u001b[0;34m.\u001b[0m\u001b[0mon_chain_error\u001b[0m\u001b[0;34m(\u001b[0m\u001b[0me\u001b[0m\u001b[0;34m)\u001b[0m\u001b[0;34m\u001b[0m\u001b[0;34m\u001b[0m\u001b[0m\n\u001b[0;32m--> 312\u001b[0;31m             \u001b[0;32mraise\u001b[0m \u001b[0me\u001b[0m\u001b[0;34m\u001b[0m\u001b[0;34m\u001b[0m\u001b[0m\n\u001b[0m\u001b[1;32m    313\u001b[0m         \u001b[0mrun_manager\u001b[0m\u001b[0;34m.\u001b[0m\u001b[0mon_chain_end\u001b[0m\u001b[0;34m(\u001b[0m\u001b[0moutputs\u001b[0m\u001b[0;34m)\u001b[0m\u001b[0;34m\u001b[0m\u001b[0;34m\u001b[0m\u001b[0m\n\u001b[1;32m    314\u001b[0m         final_outputs: Dict[str, Any] = self.prep_outputs(\n",
            "\u001b[0;32m/usr/local/lib/python3.10/dist-packages/langchain/chains/base.py\u001b[0m in \u001b[0;36m__call__\u001b[0;34m(self, inputs, return_only_outputs, callbacks, tags, metadata, run_name, include_run_info)\u001b[0m\n\u001b[1;32m    304\u001b[0m         \u001b[0;32mtry\u001b[0m\u001b[0;34m:\u001b[0m\u001b[0;34m\u001b[0m\u001b[0;34m\u001b[0m\u001b[0m\n\u001b[1;32m    305\u001b[0m             outputs = (\n\u001b[0;32m--> 306\u001b[0;31m                 \u001b[0mself\u001b[0m\u001b[0;34m.\u001b[0m\u001b[0m_call\u001b[0m\u001b[0;34m(\u001b[0m\u001b[0minputs\u001b[0m\u001b[0;34m,\u001b[0m \u001b[0mrun_manager\u001b[0m\u001b[0;34m=\u001b[0m\u001b[0mrun_manager\u001b[0m\u001b[0;34m)\u001b[0m\u001b[0;34m\u001b[0m\u001b[0;34m\u001b[0m\u001b[0m\n\u001b[0m\u001b[1;32m    307\u001b[0m                 \u001b[0;32mif\u001b[0m \u001b[0mnew_arg_supported\u001b[0m\u001b[0;34m\u001b[0m\u001b[0;34m\u001b[0m\u001b[0m\n\u001b[1;32m    308\u001b[0m                 \u001b[0;32melse\u001b[0m \u001b[0mself\u001b[0m\u001b[0;34m.\u001b[0m\u001b[0m_call\u001b[0m\u001b[0;34m(\u001b[0m\u001b[0minputs\u001b[0m\u001b[0;34m)\u001b[0m\u001b[0;34m\u001b[0m\u001b[0;34m\u001b[0m\u001b[0m\n",
            "\u001b[0;32m/usr/local/lib/python3.10/dist-packages/langchain_experimental/sql/base.py\u001b[0m in \u001b[0;36m_call\u001b[0;34m(self, inputs, run_manager)\u001b[0m\n\u001b[1;32m    199\u001b[0m             \u001b[0;31m# improvement of few shot prompt seeds\u001b[0m\u001b[0;34m\u001b[0m\u001b[0;34m\u001b[0m\u001b[0m\n\u001b[1;32m    200\u001b[0m             \u001b[0mexc\u001b[0m\u001b[0;34m.\u001b[0m\u001b[0mintermediate_steps\u001b[0m \u001b[0;34m=\u001b[0m \u001b[0mintermediate_steps\u001b[0m  \u001b[0;31m# type: ignore\u001b[0m\u001b[0;34m\u001b[0m\u001b[0;34m\u001b[0m\u001b[0m\n\u001b[0;32m--> 201\u001b[0;31m             \u001b[0;32mraise\u001b[0m \u001b[0mexc\u001b[0m\u001b[0;34m\u001b[0m\u001b[0;34m\u001b[0m\u001b[0m\n\u001b[0m\u001b[1;32m    202\u001b[0m \u001b[0;34m\u001b[0m\u001b[0m\n\u001b[1;32m    203\u001b[0m     \u001b[0;34m@\u001b[0m\u001b[0mproperty\u001b[0m\u001b[0;34m\u001b[0m\u001b[0;34m\u001b[0m\u001b[0m\n",
            "\u001b[0;32m/usr/local/lib/python3.10/dist-packages/langchain_experimental/sql/base.py\u001b[0m in \u001b[0;36m_call\u001b[0;34m(self, inputs, run_manager)\u001b[0m\n\u001b[1;32m    169\u001b[0m                     \u001b[0;34m{\u001b[0m\u001b[0;34m\"sql_cmd\"\u001b[0m\u001b[0;34m:\u001b[0m \u001b[0mchecked_sql_command\u001b[0m\u001b[0;34m}\u001b[0m\u001b[0;34m\u001b[0m\u001b[0;34m\u001b[0m\u001b[0m\n\u001b[1;32m    170\u001b[0m                 )  # input: sql exec\n\u001b[0;32m--> 171\u001b[0;31m                 \u001b[0mresult\u001b[0m \u001b[0;34m=\u001b[0m \u001b[0mself\u001b[0m\u001b[0;34m.\u001b[0m\u001b[0mdatabase\u001b[0m\u001b[0;34m.\u001b[0m\u001b[0mrun\u001b[0m\u001b[0;34m(\u001b[0m\u001b[0mchecked_sql_command\u001b[0m\u001b[0;34m)\u001b[0m\u001b[0;34m\u001b[0m\u001b[0;34m\u001b[0m\u001b[0m\n\u001b[0m\u001b[1;32m    172\u001b[0m                 \u001b[0mintermediate_steps\u001b[0m\u001b[0;34m.\u001b[0m\u001b[0mappend\u001b[0m\u001b[0;34m(\u001b[0m\u001b[0mstr\u001b[0m\u001b[0;34m(\u001b[0m\u001b[0mresult\u001b[0m\u001b[0;34m)\u001b[0m\u001b[0;34m)\u001b[0m  \u001b[0;31m# output: sql exec\u001b[0m\u001b[0;34m\u001b[0m\u001b[0;34m\u001b[0m\u001b[0m\n\u001b[1;32m    173\u001b[0m                 \u001b[0msql_cmd\u001b[0m \u001b[0;34m=\u001b[0m \u001b[0mchecked_sql_command\u001b[0m\u001b[0;34m\u001b[0m\u001b[0;34m\u001b[0m\u001b[0m\n",
            "\u001b[0;32m/usr/local/lib/python3.10/dist-packages/langchain_community/utilities/sql_database.py\u001b[0m in \u001b[0;36mrun\u001b[0;34m(self, command, fetch)\u001b[0m\n\u001b[1;32m    434\u001b[0m         \u001b[0mIf\u001b[0m \u001b[0mthe\u001b[0m \u001b[0mstatement\u001b[0m \u001b[0mreturns\u001b[0m \u001b[0mno\u001b[0m \u001b[0mrows\u001b[0m\u001b[0;34m,\u001b[0m \u001b[0man\u001b[0m \u001b[0mempty\u001b[0m \u001b[0mstring\u001b[0m \u001b[0;32mis\u001b[0m \u001b[0mreturned\u001b[0m\u001b[0;34m.\u001b[0m\u001b[0;34m\u001b[0m\u001b[0;34m\u001b[0m\u001b[0m\n\u001b[1;32m    435\u001b[0m         \"\"\"\n\u001b[0;32m--> 436\u001b[0;31m         \u001b[0mresult\u001b[0m \u001b[0;34m=\u001b[0m \u001b[0mself\u001b[0m\u001b[0;34m.\u001b[0m\u001b[0m_execute\u001b[0m\u001b[0;34m(\u001b[0m\u001b[0mcommand\u001b[0m\u001b[0;34m,\u001b[0m \u001b[0mfetch\u001b[0m\u001b[0;34m)\u001b[0m\u001b[0;34m\u001b[0m\u001b[0;34m\u001b[0m\u001b[0m\n\u001b[0m\u001b[1;32m    437\u001b[0m         \u001b[0;31m# Convert columns values to string to avoid issues with sqlalchemy\u001b[0m\u001b[0;34m\u001b[0m\u001b[0;34m\u001b[0m\u001b[0m\n\u001b[1;32m    438\u001b[0m         \u001b[0;31m# truncating text\u001b[0m\u001b[0;34m\u001b[0m\u001b[0;34m\u001b[0m\u001b[0m\n",
            "\u001b[0;32m/usr/local/lib/python3.10/dist-packages/langchain_community/utilities/sql_database.py\u001b[0m in \u001b[0;36m_execute\u001b[0;34m(self, command, fetch)\u001b[0m\n\u001b[1;32m    412\u001b[0m                 \u001b[0;32melse\u001b[0m\u001b[0;34m:\u001b[0m  \u001b[0;31m# postgresql and other compatible dialects\u001b[0m\u001b[0;34m\u001b[0m\u001b[0;34m\u001b[0m\u001b[0m\n\u001b[1;32m    413\u001b[0m                     \u001b[0mconnection\u001b[0m\u001b[0;34m.\u001b[0m\u001b[0mexec_driver_sql\u001b[0m\u001b[0;34m(\u001b[0m\u001b[0;34m\"SET search_path TO %s\"\u001b[0m\u001b[0;34m,\u001b[0m \u001b[0;34m(\u001b[0m\u001b[0mself\u001b[0m\u001b[0;34m.\u001b[0m\u001b[0m_schema\u001b[0m\u001b[0;34m,\u001b[0m\u001b[0;34m)\u001b[0m\u001b[0;34m)\u001b[0m\u001b[0;34m\u001b[0m\u001b[0;34m\u001b[0m\u001b[0m\n\u001b[0;32m--> 414\u001b[0;31m             \u001b[0mcursor\u001b[0m \u001b[0;34m=\u001b[0m \u001b[0mconnection\u001b[0m\u001b[0;34m.\u001b[0m\u001b[0mexecute\u001b[0m\u001b[0;34m(\u001b[0m\u001b[0mtext\u001b[0m\u001b[0;34m(\u001b[0m\u001b[0mcommand\u001b[0m\u001b[0;34m)\u001b[0m\u001b[0;34m)\u001b[0m\u001b[0;34m\u001b[0m\u001b[0;34m\u001b[0m\u001b[0m\n\u001b[0m\u001b[1;32m    415\u001b[0m             \u001b[0;32mif\u001b[0m \u001b[0mcursor\u001b[0m\u001b[0;34m.\u001b[0m\u001b[0mreturns_rows\u001b[0m\u001b[0;34m:\u001b[0m\u001b[0;34m\u001b[0m\u001b[0;34m\u001b[0m\u001b[0m\n\u001b[1;32m    416\u001b[0m                 \u001b[0;32mif\u001b[0m \u001b[0mfetch\u001b[0m \u001b[0;34m==\u001b[0m \u001b[0;34m\"all\"\u001b[0m\u001b[0;34m:\u001b[0m\u001b[0;34m\u001b[0m\u001b[0;34m\u001b[0m\u001b[0m\n",
            "\u001b[0;32m/usr/local/lib/python3.10/dist-packages/sqlalchemy/engine/base.py\u001b[0m in \u001b[0;36mexecute\u001b[0;34m(self, statement, parameters, execution_options)\u001b[0m\n\u001b[1;32m   1414\u001b[0m             \u001b[0;32mraise\u001b[0m \u001b[0mexc\u001b[0m\u001b[0;34m.\u001b[0m\u001b[0mObjectNotExecutableError\u001b[0m\u001b[0;34m(\u001b[0m\u001b[0mstatement\u001b[0m\u001b[0;34m)\u001b[0m \u001b[0;32mfrom\u001b[0m \u001b[0merr\u001b[0m\u001b[0;34m\u001b[0m\u001b[0;34m\u001b[0m\u001b[0m\n\u001b[1;32m   1415\u001b[0m         \u001b[0;32melse\u001b[0m\u001b[0;34m:\u001b[0m\u001b[0;34m\u001b[0m\u001b[0;34m\u001b[0m\u001b[0m\n\u001b[0;32m-> 1416\u001b[0;31m             return meth(\n\u001b[0m\u001b[1;32m   1417\u001b[0m                 \u001b[0mself\u001b[0m\u001b[0;34m,\u001b[0m\u001b[0;34m\u001b[0m\u001b[0;34m\u001b[0m\u001b[0m\n\u001b[1;32m   1418\u001b[0m                 \u001b[0mdistilled_parameters\u001b[0m\u001b[0;34m,\u001b[0m\u001b[0;34m\u001b[0m\u001b[0;34m\u001b[0m\u001b[0m\n",
            "\u001b[0;32m/usr/local/lib/python3.10/dist-packages/sqlalchemy/sql/elements.py\u001b[0m in \u001b[0;36m_execute_on_connection\u001b[0;34m(self, connection, distilled_params, execution_options)\u001b[0m\n\u001b[1;32m    514\u001b[0m             \u001b[0;32mif\u001b[0m \u001b[0mTYPE_CHECKING\u001b[0m\u001b[0;34m:\u001b[0m\u001b[0;34m\u001b[0m\u001b[0;34m\u001b[0m\u001b[0m\n\u001b[1;32m    515\u001b[0m                 \u001b[0;32massert\u001b[0m \u001b[0misinstance\u001b[0m\u001b[0;34m(\u001b[0m\u001b[0mself\u001b[0m\u001b[0;34m,\u001b[0m \u001b[0mExecutable\u001b[0m\u001b[0;34m)\u001b[0m\u001b[0;34m\u001b[0m\u001b[0;34m\u001b[0m\u001b[0m\n\u001b[0;32m--> 516\u001b[0;31m             return connection._execute_clauseelement(\n\u001b[0m\u001b[1;32m    517\u001b[0m                 \u001b[0mself\u001b[0m\u001b[0;34m,\u001b[0m \u001b[0mdistilled_params\u001b[0m\u001b[0;34m,\u001b[0m \u001b[0mexecution_options\u001b[0m\u001b[0;34m\u001b[0m\u001b[0;34m\u001b[0m\u001b[0m\n\u001b[1;32m    518\u001b[0m             )\n",
            "\u001b[0;32m/usr/local/lib/python3.10/dist-packages/sqlalchemy/engine/base.py\u001b[0m in \u001b[0;36m_execute_clauseelement\u001b[0;34m(self, elem, distilled_parameters, execution_options)\u001b[0m\n\u001b[1;32m   1637\u001b[0m             \u001b[0mlinting\u001b[0m\u001b[0;34m=\u001b[0m\u001b[0mself\u001b[0m\u001b[0;34m.\u001b[0m\u001b[0mdialect\u001b[0m\u001b[0;34m.\u001b[0m\u001b[0mcompiler_linting\u001b[0m \u001b[0;34m|\u001b[0m \u001b[0mcompiler\u001b[0m\u001b[0;34m.\u001b[0m\u001b[0mWARN_LINTING\u001b[0m\u001b[0;34m,\u001b[0m\u001b[0;34m\u001b[0m\u001b[0;34m\u001b[0m\u001b[0m\n\u001b[1;32m   1638\u001b[0m         )\n\u001b[0;32m-> 1639\u001b[0;31m         ret = self._execute_context(\n\u001b[0m\u001b[1;32m   1640\u001b[0m             \u001b[0mdialect\u001b[0m\u001b[0;34m,\u001b[0m\u001b[0;34m\u001b[0m\u001b[0;34m\u001b[0m\u001b[0m\n\u001b[1;32m   1641\u001b[0m             \u001b[0mdialect\u001b[0m\u001b[0;34m.\u001b[0m\u001b[0mexecution_ctx_cls\u001b[0m\u001b[0;34m.\u001b[0m\u001b[0m_init_compiled\u001b[0m\u001b[0;34m,\u001b[0m\u001b[0;34m\u001b[0m\u001b[0;34m\u001b[0m\u001b[0m\n",
            "\u001b[0;32m/usr/local/lib/python3.10/dist-packages/sqlalchemy/engine/base.py\u001b[0m in \u001b[0;36m_execute_context\u001b[0;34m(self, dialect, constructor, statement, parameters, execution_options, *args, **kw)\u001b[0m\n\u001b[1;32m   1846\u001b[0m             )\n\u001b[1;32m   1847\u001b[0m         \u001b[0;32melse\u001b[0m\u001b[0;34m:\u001b[0m\u001b[0;34m\u001b[0m\u001b[0;34m\u001b[0m\u001b[0m\n\u001b[0;32m-> 1848\u001b[0;31m             return self._exec_single_context(\n\u001b[0m\u001b[1;32m   1849\u001b[0m                 \u001b[0mdialect\u001b[0m\u001b[0;34m,\u001b[0m \u001b[0mcontext\u001b[0m\u001b[0;34m,\u001b[0m \u001b[0mstatement\u001b[0m\u001b[0;34m,\u001b[0m \u001b[0mparameters\u001b[0m\u001b[0;34m\u001b[0m\u001b[0;34m\u001b[0m\u001b[0m\n\u001b[1;32m   1850\u001b[0m             )\n",
            "\u001b[0;32m/usr/local/lib/python3.10/dist-packages/sqlalchemy/engine/base.py\u001b[0m in \u001b[0;36m_exec_single_context\u001b[0;34m(self, dialect, context, statement, parameters)\u001b[0m\n\u001b[1;32m   1986\u001b[0m \u001b[0;34m\u001b[0m\u001b[0m\n\u001b[1;32m   1987\u001b[0m         \u001b[0;32mexcept\u001b[0m \u001b[0mBaseException\u001b[0m \u001b[0;32mas\u001b[0m \u001b[0me\u001b[0m\u001b[0;34m:\u001b[0m\u001b[0;34m\u001b[0m\u001b[0;34m\u001b[0m\u001b[0m\n\u001b[0;32m-> 1988\u001b[0;31m             self._handle_dbapi_exception(\n\u001b[0m\u001b[1;32m   1989\u001b[0m                 \u001b[0me\u001b[0m\u001b[0;34m,\u001b[0m \u001b[0mstr_statement\u001b[0m\u001b[0;34m,\u001b[0m \u001b[0meffective_parameters\u001b[0m\u001b[0;34m,\u001b[0m \u001b[0mcursor\u001b[0m\u001b[0;34m,\u001b[0m \u001b[0mcontext\u001b[0m\u001b[0;34m\u001b[0m\u001b[0;34m\u001b[0m\u001b[0m\n\u001b[1;32m   1990\u001b[0m             )\n",
            "\u001b[0;32m/usr/local/lib/python3.10/dist-packages/sqlalchemy/engine/base.py\u001b[0m in \u001b[0;36m_handle_dbapi_exception\u001b[0;34m(self, e, statement, parameters, cursor, context, is_sub_exec)\u001b[0m\n\u001b[1;32m   2341\u001b[0m             \u001b[0;32melif\u001b[0m \u001b[0mshould_wrap\u001b[0m\u001b[0;34m:\u001b[0m\u001b[0;34m\u001b[0m\u001b[0;34m\u001b[0m\u001b[0m\n\u001b[1;32m   2342\u001b[0m                 \u001b[0;32massert\u001b[0m \u001b[0msqlalchemy_exception\u001b[0m \u001b[0;32mis\u001b[0m \u001b[0;32mnot\u001b[0m \u001b[0;32mNone\u001b[0m\u001b[0;34m\u001b[0m\u001b[0;34m\u001b[0m\u001b[0m\n\u001b[0;32m-> 2343\u001b[0;31m                 \u001b[0;32mraise\u001b[0m \u001b[0msqlalchemy_exception\u001b[0m\u001b[0;34m.\u001b[0m\u001b[0mwith_traceback\u001b[0m\u001b[0;34m(\u001b[0m\u001b[0mexc_info\u001b[0m\u001b[0;34m[\u001b[0m\u001b[0;36m2\u001b[0m\u001b[0;34m]\u001b[0m\u001b[0;34m)\u001b[0m \u001b[0;32mfrom\u001b[0m \u001b[0me\u001b[0m\u001b[0;34m\u001b[0m\u001b[0;34m\u001b[0m\u001b[0m\n\u001b[0m\u001b[1;32m   2344\u001b[0m             \u001b[0;32melse\u001b[0m\u001b[0;34m:\u001b[0m\u001b[0;34m\u001b[0m\u001b[0;34m\u001b[0m\u001b[0m\n\u001b[1;32m   2345\u001b[0m                 \u001b[0;32massert\u001b[0m \u001b[0mexc_info\u001b[0m\u001b[0;34m[\u001b[0m\u001b[0;36m1\u001b[0m\u001b[0;34m]\u001b[0m \u001b[0;32mis\u001b[0m \u001b[0;32mnot\u001b[0m \u001b[0;32mNone\u001b[0m\u001b[0;34m\u001b[0m\u001b[0;34m\u001b[0m\u001b[0m\n",
            "\u001b[0;32m/usr/local/lib/python3.10/dist-packages/sqlalchemy/engine/base.py\u001b[0m in \u001b[0;36m_exec_single_context\u001b[0;34m(self, dialect, context, statement, parameters)\u001b[0m\n\u001b[1;32m   1967\u001b[0m                             \u001b[0;32mbreak\u001b[0m\u001b[0;34m\u001b[0m\u001b[0;34m\u001b[0m\u001b[0m\n\u001b[1;32m   1968\u001b[0m                 \u001b[0;32mif\u001b[0m \u001b[0;32mnot\u001b[0m \u001b[0mevt_handled\u001b[0m\u001b[0;34m:\u001b[0m\u001b[0;34m\u001b[0m\u001b[0;34m\u001b[0m\u001b[0m\n\u001b[0;32m-> 1969\u001b[0;31m                     self.dialect.do_execute(\n\u001b[0m\u001b[1;32m   1970\u001b[0m                         \u001b[0mcursor\u001b[0m\u001b[0;34m,\u001b[0m \u001b[0mstr_statement\u001b[0m\u001b[0;34m,\u001b[0m \u001b[0meffective_parameters\u001b[0m\u001b[0;34m,\u001b[0m \u001b[0mcontext\u001b[0m\u001b[0;34m\u001b[0m\u001b[0;34m\u001b[0m\u001b[0m\n\u001b[1;32m   1971\u001b[0m                     )\n",
            "\u001b[0;32m/usr/local/lib/python3.10/dist-packages/sqlalchemy/engine/default.py\u001b[0m in \u001b[0;36mdo_execute\u001b[0;34m(self, cursor, statement, parameters, context)\u001b[0m\n\u001b[1;32m    920\u001b[0m \u001b[0;34m\u001b[0m\u001b[0m\n\u001b[1;32m    921\u001b[0m     \u001b[0;32mdef\u001b[0m \u001b[0mdo_execute\u001b[0m\u001b[0;34m(\u001b[0m\u001b[0mself\u001b[0m\u001b[0;34m,\u001b[0m \u001b[0mcursor\u001b[0m\u001b[0;34m,\u001b[0m \u001b[0mstatement\u001b[0m\u001b[0;34m,\u001b[0m \u001b[0mparameters\u001b[0m\u001b[0;34m,\u001b[0m \u001b[0mcontext\u001b[0m\u001b[0;34m=\u001b[0m\u001b[0;32mNone\u001b[0m\u001b[0;34m)\u001b[0m\u001b[0;34m:\u001b[0m\u001b[0;34m\u001b[0m\u001b[0;34m\u001b[0m\u001b[0m\n\u001b[0;32m--> 922\u001b[0;31m         \u001b[0mcursor\u001b[0m\u001b[0;34m.\u001b[0m\u001b[0mexecute\u001b[0m\u001b[0;34m(\u001b[0m\u001b[0mstatement\u001b[0m\u001b[0;34m,\u001b[0m \u001b[0mparameters\u001b[0m\u001b[0;34m)\u001b[0m\u001b[0;34m\u001b[0m\u001b[0;34m\u001b[0m\u001b[0m\n\u001b[0m\u001b[1;32m    923\u001b[0m \u001b[0;34m\u001b[0m\u001b[0m\n\u001b[1;32m    924\u001b[0m     \u001b[0;32mdef\u001b[0m \u001b[0mdo_execute_no_params\u001b[0m\u001b[0;34m(\u001b[0m\u001b[0mself\u001b[0m\u001b[0;34m,\u001b[0m \u001b[0mcursor\u001b[0m\u001b[0;34m,\u001b[0m \u001b[0mstatement\u001b[0m\u001b[0;34m,\u001b[0m \u001b[0mcontext\u001b[0m\u001b[0;34m=\u001b[0m\u001b[0;32mNone\u001b[0m\u001b[0;34m)\u001b[0m\u001b[0;34m:\u001b[0m\u001b[0;34m\u001b[0m\u001b[0;34m\u001b[0m\u001b[0m\n",
            "\u001b[0;31mOperationalError\u001b[0m: (sqlite3.OperationalError) misuse of aggregate: AVG()\n[SQL: SELECT COUNT(*) AS \"Number of People\", AVG(age) AS \"Average Age\" \nFROM table_product \nWHERE age BETWEEN AVG(age)-2 AND AVG(age)+2 \nAND (state = \"NY\" OR state = \"CA\" OR state = \"IL\") \nAND product_preference = \"Smartphones\"]\n(Background on this error at: https://sqlalche.me/e/20/e3q8)"
          ]
        }
      ],
      "source": [
        "db_chain.run(\"Find the number of people whose age is less than or equal to the average age with a 2 year variation in age allowed and they are from NY or CA or IL whose prefer to buy smartphones. Also tell me the average age\")"
      ]
    },
    {
      "cell_type": "markdown",
      "metadata": {
        "id": "CjO4x7oKd9fm"
      },
      "source": [
        "**SQL Query with few shot prompting**"
      ]
    },
    {
      "cell_type": "code",
      "execution_count": 120,
      "metadata": {
        "colab": {
          "base_uri": "https://localhost:8080/",
          "height": 1000
        },
        "id": "IDYTyrqGTzbj",
        "outputId": "ff9699ec-73e7-425c-c6fa-ed203dcb046d"
      },
      "outputs": [
        {
          "name": "stdout",
          "output_type": "stream",
          "text": [
            "\n",
            "\n",
            "\u001b[1m> Entering new SQLDatabaseChain chain...\u001b[0m\n",
            "Find the number of people whose age is less than or equal to the average age with a 2 year variation in age allowed and they are from NY or CA or IL whose prefer to buy smartphones. Also tell me the average age\n",
            "SQLQuery:\n",
            "\n",
            "\u001b[1m> Entering new LLMChain chain...\u001b[0m\n",
            "Prompt after formatting:\n",
            "\u001b[32;1m\u001b[1;3mYou are a MySQL expert. Given an input question, first create a syntactically correct MySQL query to run, then look at the results of the query and return the answer to the input question.\n",
            "Unless the user specifies in the question a specific number of examples to obtain, query for at most 5 results using the LIMIT clause as per MySQL. You can order the results to return the most informative data in the database.\n",
            "Never query for all columns from a table. You must query only the columns that are needed to answer the question. Wrap each column name in backticks (`) to denote them as delimited identifiers.\n",
            "Pay attention to use only the column names you can see in the tables below. Be careful to not query for columns that do not exist. Also, pay attention to which column is in which table.\n",
            "Pay attention to use CURDATE() function to get the current date, if the question involves \"today\".\n",
            "\n",
            "Use the following format:\n",
            "\n",
            "Question: Question here\n",
            "SQLQuery: SQL Query to run\n",
            "SQLResult: Result of the SQLQuery\n",
            "Answer: Final answer here\n",
            "\n",
            "\n",
            "\n",
            "\n",
            "Question: How many product categories?\n",
            "SQLQuery: SELECT COUNT(DISTINCT product_category) FROM table_product\n",
            "SQLResult: [(6,)]\n",
            "Answer: There are 6 product categories\n",
            "\n",
            "\n",
            "Question: How many customers between age 20-40?\n",
            "SQLQuery: SELECT COUNT(*) FROM table_product WHERE age BETWEEN 20 AND 40\n",
            "SQLResult: [(96,)]\n",
            "Answer: There are 96 customers with age between 20-40\n",
            "\n",
            "\n",
            "Question: How many customers are from New York and are male?\n",
            "SQLQuery: SELECT COUNT(*) FROM table_product WHERE city = 'New York' AND gender = 'Male'\n",
            "SQLResult: [(1,)]\n",
            "Answer: There is 1 customer from New York who is a male\n",
            "\n",
            "\n",
            "Question: How many unique customers are there from Canada in Product table?\n",
            "SQLQuery: SELECT COUNT(DISTINCT customer_id) FROM table_product WHERE country = 'Canada'\n",
            "SQLResult: [(26,)]\n",
            "Answer: There are 26 unique customers from Canada\n",
            "\n",
            "\n",
            "Question: Extract the username name of all emails from the database and find out how many are concatenation of lowecase first name and lowercase last name of users and they are from NY and is a female\n",
            "SQLQuery: SELECT COUNT(*) FROM table_product WHERE email LIKE LOWER(first_name || last_name || '%') AND state = 'NY' AND gender = 'Female'\n",
            "SQLResult: [(1,)]\n",
            "Answer: There is 1 such email addresses\n",
            "\n",
            "Only use the following tables:\n",
            "\n",
            "CREATE TABLE table_product (\n",
            "\tcustomer_id INTEGER, \n",
            "\tfirst_name TEXT, \n",
            "\tlast_name TEXT, \n",
            "\temail TEXT, \n",
            "\tage INTEGER, \n",
            "\tgender TEXT, \n",
            "\tcity TEXT, \n",
            "\tstate TEXT, \n",
            "\tcountry TEXT, \n",
            "\tproduct_category TEXT, \n",
            "\tproduct_preference TEXT\n",
            ")\n",
            "\n",
            "/*\n",
            "3 rows from table_product table:\n",
            "customer_id\tfirst_name\tlast_name\temail\tage\tgender\tcity\tstate\tcountry\tproduct_category\tproduct_preference\n",
            "1\tJohn\tDoe\tjohndoe@example.com\t35\tMale\tNew York\tNY\tUnited States\tElectronics\tSmartphones\n",
            "2\tJane\tSmith\tjanesmith@example.com\t28\tFemale\tLos Angeles\tCA\tUnited States\tClothing\tDresses\n",
            "3\tMichael\tJohnson\tmichaeljohnson@example.com\t42\tMale\tChicago\tIL\tUnited States\tHome & Kitchen\tAppliances\n",
            "*/\n",
            "\n",
            "Question: Find the number of people whose age is less than or equal to the average age with a 2 year variation in age allowed and they are from NY or CA or IL whose prefer to buy smartphones. Also tell me the average age\n",
            "SQLQuery:\u001b[0m\n",
            "\n",
            "\u001b[1m> Finished chain.\u001b[0m\n",
            "\n",
            "\n",
            "\u001b[1m> Entering new LLMChain chain...\u001b[0m\n",
            "Prompt after formatting:\n",
            "\u001b[32;1m\u001b[1;3m\n",
            "SELECT AVG(age) FROM table_product WHERE state IN ('NY', 'CA', 'IL') AND product_preference = 'Smartphones'\n",
            "Double check the sqlite query above for common mistakes, including:\n",
            "- Using NOT IN with NULL values\n",
            "- Using UNION when UNION ALL should have been used\n",
            "- Using BETWEEN for exclusive ranges\n",
            "- Data type mismatch in predicates\n",
            "- Properly quoting identifiers\n",
            "- Using the correct number of arguments for functions\n",
            "- Casting to the correct data type\n",
            "- Using the proper columns for joins\n",
            "\n",
            "If there are any of the above mistakes, rewrite the query. If there are no mistakes, just reproduce the original query.\n",
            "\n",
            "Output the final SQL query only.\n",
            "\n",
            "SQL Query: \u001b[0m\n",
            "\n",
            "\u001b[1m> Finished chain.\u001b[0m\n",
            "\u001b[32;1m\u001b[1;3mSELECT AVG(age) FROM table_product WHERE state IN ('NY', 'CA', 'IL') AND product_preference = 'Smartphones'\u001b[0m\n",
            "SQLResult: \u001b[33;1m\u001b[1;3m[(35.0,)]\u001b[0m\n",
            "Answer:\n",
            "\n",
            "\u001b[1m> Entering new LLMChain chain...\u001b[0m\n",
            "Prompt after formatting:\n",
            "\u001b[32;1m\u001b[1;3mYou are a MySQL expert. Given an input question, first create a syntactically correct MySQL query to run, then look at the results of the query and return the answer to the input question.\n",
            "Unless the user specifies in the question a specific number of examples to obtain, query for at most 5 results using the LIMIT clause as per MySQL. You can order the results to return the most informative data in the database.\n",
            "Never query for all columns from a table. You must query only the columns that are needed to answer the question. Wrap each column name in backticks (`) to denote them as delimited identifiers.\n",
            "Pay attention to use only the column names you can see in the tables below. Be careful to not query for columns that do not exist. Also, pay attention to which column is in which table.\n",
            "Pay attention to use CURDATE() function to get the current date, if the question involves \"today\".\n",
            "\n",
            "Use the following format:\n",
            "\n",
            "Question: Question here\n",
            "SQLQuery: SQL Query to run\n",
            "SQLResult: Result of the SQLQuery\n",
            "Answer: Final answer here\n",
            "\n",
            "\n",
            "\n",
            "\n",
            "Question: How many product categories?\n",
            "SQLQuery: SELECT COUNT(DISTINCT product_category) FROM table_product\n",
            "SQLResult: [(6,)]\n",
            "Answer: There are 6 product categories\n",
            "\n",
            "\n",
            "Question: How many customers between age 20-40?\n",
            "SQLQuery: SELECT COUNT(*) FROM table_product WHERE age BETWEEN 20 AND 40\n",
            "SQLResult: [(96,)]\n",
            "Answer: There are 96 customers with age between 20-40\n",
            "\n",
            "\n",
            "Question: How many customers are from New York and are male?\n",
            "SQLQuery: SELECT COUNT(*) FROM table_product WHERE city = 'New York' AND gender = 'Male'\n",
            "SQLResult: [(1,)]\n",
            "Answer: There is 1 customer from New York who is a male\n",
            "\n",
            "\n",
            "Question: How many unique customers are there from Canada in Product table?\n",
            "SQLQuery: SELECT COUNT(DISTINCT customer_id) FROM table_product WHERE country = 'Canada'\n",
            "SQLResult: [(26,)]\n",
            "Answer: There are 26 unique customers from Canada\n",
            "\n",
            "\n",
            "Question: Extract the username name of all emails from the database and find out how many are concatenation of lowecase first name and lowercase last name of users and they are from NY and is a female\n",
            "SQLQuery: SELECT COUNT(*) FROM table_product WHERE email LIKE LOWER(first_name || last_name || '%') AND state = 'NY' AND gender = 'Female'\n",
            "SQLResult: [(1,)]\n",
            "Answer: There is 1 such email addresses\n",
            "\n",
            "Only use the following tables:\n",
            "\n",
            "CREATE TABLE table_product (\n",
            "\tcustomer_id INTEGER, \n",
            "\tfirst_name TEXT, \n",
            "\tlast_name TEXT, \n",
            "\temail TEXT, \n",
            "\tage INTEGER, \n",
            "\tgender TEXT, \n",
            "\tcity TEXT, \n",
            "\tstate TEXT, \n",
            "\tcountry TEXT, \n",
            "\tproduct_category TEXT, \n",
            "\tproduct_preference TEXT\n",
            ")\n",
            "\n",
            "/*\n",
            "3 rows from table_product table:\n",
            "customer_id\tfirst_name\tlast_name\temail\tage\tgender\tcity\tstate\tcountry\tproduct_category\tproduct_preference\n",
            "1\tJohn\tDoe\tjohndoe@example.com\t35\tMale\tNew York\tNY\tUnited States\tElectronics\tSmartphones\n",
            "2\tJane\tSmith\tjanesmith@example.com\t28\tFemale\tLos Angeles\tCA\tUnited States\tClothing\tDresses\n",
            "3\tMichael\tJohnson\tmichaeljohnson@example.com\t42\tMale\tChicago\tIL\tUnited States\tHome & Kitchen\tAppliances\n",
            "*/\n",
            "\n",
            "Question: Find the number of people whose age is less than or equal to the average age with a 2 year variation in age allowed and they are from NY or CA or IL whose prefer to buy smartphones. Also tell me the average age\n",
            "SQLQuery:SELECT AVG(age) FROM table_product WHERE state IN ('NY', 'CA', 'IL') AND product_preference = 'Smartphones'\n",
            "SQLResult: [(35.0,)]\n",
            "Answer:\u001b[0m\n",
            "\n",
            "\u001b[1m> Finished chain.\u001b[0m\n",
            "\u001b[32;1m\u001b[1;3mThe average age is 35.0 and there are 1 people whose age is within 2 years of the average age and they are from NY, CA, or IL and prefer to buy smartphones.\u001b[0m\n",
            "\u001b[1m> Finished chain.\u001b[0m\n"
          ]
        },
        {
          "data": {
            "application/vnd.google.colaboratory.intrinsic+json": {
              "type": "string"
            },
            "text/plain": [
              "'The average age is 35.0 and there are 1 people whose age is within 2 years of the average age and they are from NY, CA, or IL and prefer to buy smartphones.'"
            ]
          },
          "execution_count": 120,
          "metadata": {},
          "output_type": "execute_result"
        }
      ],
      "source": [
        "local_chain = SQLDatabaseChain.from_llm(llm, product_db, prompt=few_shot_prompt, use_query_checker=True,\n",
        "                                        verbose=True, return_sql=False,)\n",
        "local_chain.run(\"Find the number of people whose age is less than or equal to the average age with a 2 year variation in age allowed and they are from NY or CA or IL whose prefer to buy smartphones. Also tell me the average age\")"
      ]
    },
    {
      "cell_type": "code",
      "execution_count": null,
      "metadata": {
        "id": "1mNr0Tf0YQXz"
      },
      "outputs": [],
      "source": []
    }
  ],
  "metadata": {
    "colab": {
      "provenance": []
    },
    "kernelspec": {
      "display_name": "Python 3",
      "name": "python3"
    },
    "language_info": {
      "name": "python"
    }
  },
  "nbformat": 4,
  "nbformat_minor": 0
}
